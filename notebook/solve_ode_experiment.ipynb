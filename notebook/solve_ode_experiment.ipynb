{
 "cells": [
  {
   "cell_type": "code",
   "execution_count": 1,
   "metadata": {},
   "outputs": [],
   "source": [
    "import pandas as pd\n",
    "import glob,os\n",
    "import numpy as np\n",
    "import pandas as pd \n",
    "import numpy.matlib\n",
    "import math\n",
    "import optuna\n",
    "from scipy.interpolate import interp1d\n",
    "from matplotlib import pyplot as plt\n",
    "from scipy.integrate import solve_ivp\n",
    "#import tensorflow as tf\n",
    "%matplotlib inline"
   ]
  },
  {
   "cell_type": "code",
   "execution_count": 2,
   "metadata": {},
   "outputs": [],
   "source": [
    "def get_all_time_series():\n",
    "    path = r'./COVID-19/csse_covid_19_data/csse_covid_19_time_series'\n",
    "    all_files = glob.glob(os.path.join(path, \"*.csv\"))\n",
    "    for i in [0,3,4]:\n",
    "        file = all_files[i]\n",
    "        df = pd.read_csv(file)\n",
    "        #confirmed_all = dict()\n",
    "        if i==0:\n",
    "            df_confirmed = pd.DataFrame()\n",
    "            for row in df.values:\n",
    "                df_confirmed[row[1]] = row[4:]\n",
    "        if i==3:\n",
    "            df_recovered = pd.DataFrame()\n",
    "            for row in df.values:\n",
    "                df_recovered[row[1]] = row[4:]\n",
    "        if i==4:\n",
    "            df_deaths = pd.DataFrame()\n",
    "            for row in df.values:\n",
    "                df_deaths[row[1]] = row[4:]\n",
    "    df_infected = df_confirmed - df_deaths - df_recovered\n",
    "    return [df_infected,df_confirmed,df_recovered,df_deaths]"
   ]
  },
  {
   "cell_type": "code",
   "execution_count": 3,
   "metadata": {},
   "outputs": [],
   "source": [
    "[df_infected,df_confirmed,df_recovered,df_deaths] = get_all_time_series()"
   ]
  },
  {
   "cell_type": "code",
   "execution_count": 4,
   "metadata": {},
   "outputs": [
    {
     "name": "stdout",
     "output_type": "stream",
     "text": [
      "Afghanistan\n",
      "Albania\n",
      "Algeria\n",
      "Andorra\n",
      "Angola\n",
      "Antigua and Barbuda\n",
      "Argentina\n",
      "Armenia\n",
      "Australia\n",
      "Austria\n",
      "Azerbaijan\n",
      "Bahamas\n",
      "Bahrain\n",
      "Bangladesh\n",
      "Barbados\n",
      "Belarus\n",
      "Belgium\n",
      "Belize\n",
      "Benin\n",
      "Bhutan\n",
      "Bolivia\n",
      "Bosnia and Herzegovina\n",
      "Botswana\n",
      "Brazil\n",
      "Brunei\n",
      "Bulgaria\n",
      "Burkina Faso\n",
      "Burma\n",
      "Burundi\n",
      "Cabo Verde\n",
      "Cambodia\n",
      "Cameroon\n",
      "Canada\n",
      "Central African Republic\n",
      "Chad\n",
      "Chile\n",
      "China\n",
      "Colombia\n",
      "Comoros\n",
      "Congo (Brazzaville)\n",
      "Congo (Kinshasa)\n",
      "Costa Rica\n",
      "Cote d'Ivoire\n",
      "Croatia\n",
      "Cuba\n",
      "Cyprus\n",
      "Czechia\n",
      "Denmark\n",
      "Diamond Princess\n",
      "Djibouti\n",
      "Dominica\n",
      "Dominican Republic\n",
      "Ecuador\n",
      "Egypt\n",
      "El Salvador\n",
      "Equatorial Guinea\n",
      "Eritrea\n",
      "Estonia\n",
      "Eswatini\n",
      "Ethiopia\n",
      "Fiji\n",
      "Finland\n",
      "France\n",
      "Gabon\n",
      "Gambia\n",
      "Georgia\n",
      "Germany\n",
      "Ghana\n",
      "Greece\n",
      "Grenada\n",
      "Guatemala\n",
      "Guinea\n",
      "Guinea-Bissau\n",
      "Guyana\n",
      "Haiti\n",
      "Holy See\n",
      "Honduras\n",
      "Hungary\n",
      "Iceland\n",
      "India\n",
      "Indonesia\n",
      "Iran\n",
      "Iraq\n",
      "Ireland\n",
      "Israel\n",
      "Italy\n",
      "Jamaica\n",
      "Japan\n",
      "Jordan\n",
      "Kazakhstan\n",
      "Kenya\n",
      "Korea, South\n",
      "Kosovo\n",
      "Kuwait\n",
      "Kyrgyzstan\n",
      "Laos\n",
      "Latvia\n",
      "Lebanon\n",
      "Lesotho\n",
      "Liberia\n",
      "Libya\n",
      "Liechtenstein\n",
      "Lithuania\n",
      "Luxembourg\n",
      "MS Zaandam\n",
      "Madagascar\n",
      "Malawi\n",
      "Malaysia\n",
      "Maldives\n",
      "Mali\n",
      "Malta\n",
      "Mauritania\n",
      "Mauritius\n",
      "Mexico\n",
      "Moldova\n",
      "Monaco\n",
      "Mongolia\n",
      "Montenegro\n",
      "Morocco\n",
      "Mozambique\n",
      "Namibia\n",
      "Nepal\n",
      "Netherlands\n",
      "New Zealand\n",
      "Nicaragua\n",
      "Niger\n",
      "Nigeria\n",
      "North Macedonia\n",
      "Norway\n",
      "Oman\n",
      "Pakistan\n",
      "Panama\n",
      "Papua New Guinea\n",
      "Paraguay\n",
      "Peru\n",
      "Philippines\n",
      "Poland\n",
      "Portugal\n",
      "Qatar\n",
      "Romania\n",
      "Russia\n",
      "Rwanda\n",
      "Saint Kitts and Nevis\n",
      "Saint Lucia\n",
      "Saint Vincent and the Grenadines\n",
      "San Marino\n",
      "Sao Tome and Principe\n",
      "Saudi Arabia\n",
      "Senegal\n",
      "Serbia\n",
      "Seychelles\n",
      "Sierra Leone\n",
      "Singapore\n",
      "Slovakia\n",
      "Slovenia\n",
      "Somalia\n",
      "South Africa\n",
      "South Sudan\n",
      "Spain\n",
      "Sri Lanka\n",
      "Sudan\n",
      "Suriname\n",
      "Sweden\n",
      "Switzerland\n",
      "Syria\n",
      "Taiwan*\n",
      "Tajikistan\n",
      "Tanzania\n",
      "Thailand\n",
      "Timor-Leste\n",
      "Togo\n",
      "Trinidad and Tobago\n",
      "Tunisia\n",
      "Turkey\n",
      "US\n",
      "Uganda\n",
      "Ukraine\n",
      "United Arab Emirates\n",
      "United Kingdom\n",
      "Uruguay\n",
      "Uzbekistan\n",
      "Venezuela\n",
      "Vietnam\n",
      "West Bank and Gaza\n",
      "Western Sahara\n",
      "Yemen\n",
      "Zambia\n",
      "Zimbabwe\n"
     ]
    }
   ],
   "source": [
    "for index in df_infected.keys():\n",
    "    print(index)"
   ]
  },
  {
   "cell_type": "code",
   "execution_count": 5,
   "metadata": {},
   "outputs": [
    {
     "data": {
      "text/plain": [
       "188"
      ]
     },
     "execution_count": 5,
     "metadata": {},
     "output_type": "execute_result"
    }
   ],
   "source": [
    "len(df_infected.keys())"
   ]
  },
  {
   "cell_type": "code",
   "execution_count": 6,
   "metadata": {},
   "outputs": [
    {
     "data": {
      "image/png": "[encoded data removed]",
      "text/plain": [
       "<Figure size 432x288 with 1 Axes>"
      ]
     },
     "metadata": {
      "needs_background": "light"
     },
     "output_type": "display_data"
    }
   ],
   "source": [
    "plt.plot(np.arange(len(df_confirmed['US'].values)),df_infected['US'].values,label='confirmed')\n",
    "plt.plot(np.arange(len(df_recovered['US'].values)),df_recovered['US'].values,label='recovered')\n",
    "plt.plot(np.arange(len(df_deaths['US'].values)),df_deaths['US'].values,label='deaths')\n",
    "plt.legend()\n",
    "plt.title('Cases in US')\n",
    "plt.savefig(\"cases_in_US\")"
   ]
  },
  {
   "cell_type": "code",
   "execution_count": 7,
   "metadata": {},
   "outputs": [
    {
     "data": {
      "text/plain": [
       "array([1, 1, 2, 2, 5, 5, 5, 5, 5, 7, 8, 8, 11, 11, 11, 11, 11, 11, 8, 8,\n",
       "       9, 9, 10, 10, 10, 10, 10, 10, 10, 10, 10, 10, 10, 10, 9, 9, 10, 9,\n",
       "       16, 22, 39, 58, 85, 153, 194, 313, 422, 486, 677, 1064, 1475, 2052,\n",
       "       2744, 2904, 4240, 5821, 8090, 12288, 18225, 23869, 32401, 42910,\n",
       "       52763, 64369, 81197, 98979, 118101, 135068, 152899, 176471, 199310,\n",
       "       227685, 257524, 284208, 307696, 333435, 359459, 387211, 417888,\n",
       "       445791, 471218, 496240, 509091, 529420, 551574, 578089, 604878,\n",
       "       624893, 643743, 666952, 686893, 710629, 739313, 754574, 784504,\n",
       "       804248, 820811, 838593, 858808, 852888, 875091, 891227, 910924,\n",
       "       925038, 944294, 967067, 987889, 1009363, 1020067, 1035303, 1036603,\n",
       "       1059612, 1065663, 1088513, 1107799, 1114055, 1128412, 1138096,\n",
       "       1150779, 1168140, 1188172, 1159352, 1168962, 1183656, 1189678,\n",
       "       1202154, 1212312, 1225466, 1242355, 1255827, 1246859, 1249965,\n",
       "       1264155, 1267716, 1282300, 1299906, 1312836, 1324611, 1329352,\n",
       "       1340196, 1351440, 1366731, 1384139, 1399716, 1414022, 1418770,\n",
       "       1434468, 1450595, 1470762, 1493972, 1515372, 1536853, 1548935,\n",
       "       1575926, 1601489, 1633410, 1670801, 1704503, 1737979, 1758367,\n",
       "       1788060, 1829177, 1830935, 1875153, 1816847, 1854004, 1881217,\n",
       "       1927688, 1968440, 2015035, 2067928, 2115035, 2162843, 2196078,\n",
       "       2245410, 2284986, 2346535, 2400604, 2447918, 2500917, 2532854,\n",
       "       2574350, 2615213, 2660394, 2704622, 2752372, 2788404, 2815757,\n",
       "       2850693, 2885975, 2928069, 2969913, 3003558, 3043931, 3044012,\n",
       "       3084641, 3087203, 3124869, 3156554, 3192403, 3225081, 3260199,\n",
       "       3261738, 3277636, 3307225, 3348503, 3373181, 3400118, 3402271,\n",
       "       3413430, 3431623, 3452581, 3482078, 3505268, 3527116, 3541552,\n",
       "       3545562, 3557680, 3585674, 3613818, 3637766, 3659468, 3662165,\n",
       "       3686513, 3696033, 3696269, 3729309, 3754245, 3771429, 3777863,\n",
       "       3778245, 3781874, 3800823, 3832795, 3856772, 3874096], dtype=object)"
      ]
     },
     "execution_count": 7,
     "metadata": {},
     "output_type": "execute_result"
    }
   ],
   "source": [
    "df_infected['US'].values"
   ]
  },
  {
   "cell_type": "code",
   "execution_count": 8,
   "metadata": {},
   "outputs": [],
   "source": [
    "us_population = 327200000"
   ]
  },
  {
   "cell_type": "code",
   "execution_count": 9,
   "metadata": {},
   "outputs": [
    {
     "name": "stdout",
     "output_type": "stream",
     "text": [
      "236\n"
     ]
    }
   ],
   "source": [
    "end_time = len(df_infected['US'])\n",
    "\n",
    "num_times = len(df_infected['US'].values[0:end_time])\n",
    "print(num_times)"
   ]
  },
  {
   "cell_type": "code",
   "execution_count": 10,
   "metadata": {},
   "outputs": [],
   "source": [
    "def to_float(x):\n",
    "    return float(x)\n",
    "\n",
    "to_float_vec = np.vectorize(to_float)"
   ]
  },
  {
   "cell_type": "code",
   "execution_count": 11,
   "metadata": {},
   "outputs": [],
   "source": [
    "Ic = df_infected['US'].values[0:end_time]\n",
    "Dc = df_deaths['US'].values[0:end_time]\n",
    "\n",
    "Ic = to_float_vec(Ic)\n",
    "Dc = to_float_vec(Dc)"
   ]
  },
  {
   "cell_type": "code",
   "execution_count": 12,
   "metadata": {},
   "outputs": [
    {
     "name": "stdout",
     "output_type": "stream",
     "text": [
      "beta=0.26\n",
      "gamma=0.08\n",
      "mu=0.0033\n"
     ]
    }
   ],
   "source": [
    "#beta = 0.6345301162187955\n",
    "#gamma = 0.43979856466213035\n",
    "#mu = 0.006641658374541129\n",
    "\n",
    "\n",
    "beta=0.26\n",
    "gamma=0.08\n",
    "mu=0.0033\n",
    "\n",
    "\n",
    "beta_0 = np.array([beta for i in range(num_times)])\n",
    "gamma_0 = np.array([gamma for i in range(num_times)])\n",
    "mu_0 = np.array([mu for i in range(num_times)])\n",
    "\n",
    "\n",
    "print(\"beta={}\\ngamma={}\\nmu={}\".format(beta,gamma,mu))"
   ]
  },
  {
   "cell_type": "code",
   "execution_count": 13,
   "metadata": {},
   "outputs": [],
   "source": [
    "x= np.arange(len(beta_0))\n",
    "y = np.log(x+1)"
   ]
  },
  {
   "cell_type": "code",
   "execution_count": 14,
   "metadata": {},
   "outputs": [],
   "source": [
    "d  = 10\n",
    "h =  1/d\n",
    "n = len(beta_0)\n",
    "\n",
    "y_interp = []\n",
    "y_interp.append(y[0])\n",
    "\n",
    "for i in range(n-1):\n",
    "    for t in range(d):\n",
    "        t = t+1\n",
    "        y_interp.append(y[i] + t*h*(y[i+1]-y[i]))\n",
    "y_interp = np.array(y_interp)"
   ]
  },
  {
   "cell_type": "code",
   "execution_count": 15,
   "metadata": {},
   "outputs": [],
   "source": [
    "t_span = list(np.arange(0,n-1,0.1))\n",
    "t_span.append(t_span[-1]+0.1)\n",
    "t_span=np.array(t_span)"
   ]
  },
  {
   "cell_type": "code",
   "execution_count": 16,
   "metadata": {},
   "outputs": [
    {
     "data": {
      "text/plain": [
       "[<matplotlib.lines.Line2D at 0x7f6d46b89780>]"
      ]
     },
     "execution_count": 16,
     "metadata": {},
     "output_type": "execute_result"
    },
    {
     "data": {
      "image/png": "[encoded data removed]",
      "text/plain": [
       "<Figure size 432x288 with 1 Axes>"
      ]
     },
     "metadata": {
      "needs_background": "light"
     },
     "output_type": "display_data"
    }
   ],
   "source": [
    "plt.plot(x,y)\n",
    "plt.plot(t_span,y_interp)"
   ]
  },
  {
   "cell_type": "code",
   "execution_count": 17,
   "metadata": {},
   "outputs": [
    {
     "data": {
      "text/plain": [
       "236"
      ]
     },
     "execution_count": 17,
     "metadata": {},
     "output_type": "execute_result"
    }
   ],
   "source": [
    "len(beta_0)"
   ]
  },
  {
   "cell_type": "code",
   "execution_count": 18,
   "metadata": {},
   "outputs": [
    {
     "data": {
      "text/plain": [
       "[<matplotlib.lines.Line2D at 0x7f6d449329b0>]"
      ]
     },
     "execution_count": 18,
     "metadata": {},
     "output_type": "execute_result"
    },
    {
     "data": {
      "image/png": "[encoded data removed]",
      "text/plain": [
       "<Figure size 432x288 with 1 Axes>"
      ]
     },
     "metadata": {
      "needs_background": "light"
     },
     "output_type": "display_data"
    }
   ],
   "source": [
    "plt.plot(np.arange(len(beta_0)), beta_0)\n",
    "plt.plot(np.arange(len(gamma_0)), gamma_0)\n",
    "plt.plot(np.arange(len(mu_0)), mu_0)"
   ]
  },
  {
   "cell_type": "code",
   "execution_count": 19,
   "metadata": {},
   "outputs": [],
   "source": [
    "def interpolate(y,d):\n",
    "    #d  = 10\n",
    "    h =  1/d\n",
    "    n = len(y)\n",
    "\n",
    "    y_interp = []\n",
    "    y_interp.append(y[0])\n",
    "\n",
    "    for i in range(n-1):\n",
    "        for t in range(d):\n",
    "            t = t+1\n",
    "            y_interp.append(y[i] + t*h*(y[i+1]-y[i]))\n",
    "    y_interp = np.array(y_interp)\n",
    "    return y_interp"
   ]
  },
  {
   "cell_type": "code",
   "execution_count": 85,
   "metadata": {},
   "outputs": [],
   "source": [
    "def solve_sird_euler(beta,gamma,mu,d):\n",
    "    S_t = []\n",
    "    I_t = []\n",
    "    R_t = []\n",
    "    D_t = []\n",
    "\n",
    "    S_t.append(us_population-1.)\n",
    "    I_t.append(1.)\n",
    "    R_t.append(0.)\n",
    "    D_t.append(0.)\n",
    "    \n",
    "    h = 1/d\n",
    "    \n",
    "    beta_t = interpolate(beta,d)\n",
    "    gamma_t = interpolate(gamma,d)\n",
    "    mu_t = interpolate(mu,d)\n",
    "    \n",
    "    for t in range((num_times-1)*d):\n",
    "        Snew = S_t[t] - h*(beta_t[t]/us_population * S_t[t]*I_t[t])\n",
    "        Inew = I_t[t] + h*(beta_t[t]/us_population * S_t[t]*I_t[t] - gamma_t[t]*I_t[t] - mu_t[t]*I_t[t])\n",
    "        Rnew = R_t[t] + h*(gamma_t[t]* I_t[t])\n",
    "        Dnew = D_t[t] + h*(mu_t[t]*I_t[t])\n",
    "        S_t.append(Snew)\n",
    "        I_t.append(Inew)\n",
    "        R_t.append(Rnew)\n",
    "        D_t.append(Dnew)\n",
    "    \n",
    "    S = []\n",
    "    I = []\n",
    "    R = []\n",
    "    D = []\n",
    "    \n",
    "    for i in range(num_times):\n",
    "        S.append(S_t[10*i])\n",
    "        I.append(I_t[10*i])\n",
    "        R.append(R_t[10*i])\n",
    "        D.append(D_t[10*i])\n",
    "    \n",
    "    return [S,I,R,D]"
   ]
  },
  {
   "cell_type": "markdown",
   "metadata": {},
   "source": [
    "    S = []\n",
    "    I = []\n",
    "    R = []\n",
    "    D = []\n",
    "\n",
    "    S.append(us_population-1.)\n",
    "    I.append(1.)\n",
    "    R.append(0.)\n",
    "    D.append(0.)\n",
    "\n",
    "    for i in range(num_times-1):\n",
    "        Snew = S[i] - beta_0[i]/us_population * S[i]*I[i]\n",
    "        Inew = I[i] + beta_0[i]/us_population * S[i]*I[i] - gamma_0[i]*I[i] - mu_0[i]*I[i]\n",
    "        Rnew = R[i] + gamma_0[i]* I[i]\n",
    "        Dnew = D[i] + mu_0[i]*I[i]\n",
    "        S.append(Snew)\n",
    "        I.append(Inew)\n",
    "        R.append(Rnew)\n",
    "        D.append(Dnew)\n",
    "        \n",
    "    I = np.array(I)\n",
    "    D = np.array(D)\n",
    "    R = np.array(R)\n",
    "    S = np.array(S)\n"
   ]
  },
  {
   "cell_type": "code",
   "execution_count": 86,
   "metadata": {},
   "outputs": [],
   "source": [
    "[S,I,R,D] = solve_sird_euler(beta_0,gamma_0,mu_0,10)"
   ]
  },
  {
   "cell_type": "code",
   "execution_count": 87,
   "metadata": {},
   "outputs": [
    {
     "data": {
      "text/plain": [
       "[<matplotlib.lines.Line2D at 0x7f6d43dd7dd8>]"
      ]
     },
     "execution_count": 87,
     "metadata": {},
     "output_type": "execute_result"
    },
    {
     "data": {
      "image/png": "[encoded data removed]",
      "text/plain": [
       "<Figure size 432x288 with 1 Axes>"
      ]
     },
     "metadata": {
      "needs_background": "light"
     },
     "output_type": "display_data"
    }
   ],
   "source": [
    "plt.plot(np.arange(len(I)),S, label = 'S')\n",
    "plt.plot(np.arange(len(I)),I, label = 'I')\n",
    "plt.plot(np.arange(len(I)),R, label = 'R')\n",
    "plt.plot(np.arange(len(I)),D, label = 'D')"
   ]
  },
  {
   "cell_type": "code",
   "execution_count": 88,
   "metadata": {},
   "outputs": [],
   "source": [
    "def solve_sird_new(num_times,beta_t,gamma_t,mu_t,s0,i0,r0,d0):\n",
    "    t = np.linspace(0,num_times-1,num_times)\n",
    "    #times = np.arange(len(beta_t))\n",
    "    #Us = np.empty((len(beta_t),4))\n",
    "    q0 = [s0,i0,r0,d0]\n",
    "    interp = interp1d(t,(beta_t,gamma_t,mu_t))\n",
    "    \n",
    "    def system(t, U):\n",
    "        #print(U)\n",
    "        s,i,r,d = U[0],U[1],U[2],U[3]\n",
    "        #print(t)\n",
    "        beta, gamma, mu = interp(t)\n",
    "        return np.array([-beta*s*i, beta*s*i-(gamma+mu)*i, gamma*i, mu*i])\n",
    "    \n",
    "    steps = 1\n",
    "    atol = 1e-11\n",
    "    method = 'RK45'\n",
    "    solution = solve_ivp(system, (0, num_times-1), q0, method=method, t_eval=t, atol=atol, vectorized=True,max_step=1,first_step=0.05)\n",
    "    return solution"
   ]
  },
  {
   "cell_type": "code",
   "execution_count": 89,
   "metadata": {},
   "outputs": [],
   "source": [
    "i0 = 1/us_population\n",
    "r0 = 0\n",
    "s0 = 1-i0\n",
    "R1 = 3./100.\n",
    "d0 = 0"
   ]
  },
  {
   "cell_type": "code",
   "execution_count": 90,
   "metadata": {},
   "outputs": [
    {
     "data": {
      "text/plain": [
       "236"
      ]
     },
     "execution_count": 90,
     "metadata": {},
     "output_type": "execute_result"
    }
   ],
   "source": [
    "len(beta_0)"
   ]
  },
  {
   "cell_type": "code",
   "execution_count": 91,
   "metadata": {},
   "outputs": [],
   "source": [
    "solution = solve_sird_new(len(beta_0),beta_0,gamma_0,mu_0,s0,i0,r0,d0)"
   ]
  },
  {
   "cell_type": "code",
   "execution_count": 92,
   "metadata": {},
   "outputs": [],
   "source": [
    "s = solution.y[0,:]\n",
    "i = solution.y[1,:]\n",
    "r = solution.y[2,:]\n",
    "d = solution.y[3,:]\n",
    "\n",
    "S2 = s*us_population\n",
    "I2 = i*us_population\n",
    "R2 = r*us_population\n",
    "D2 = d*us_population"
   ]
  },
  {
   "cell_type": "code",
   "execution_count": 93,
   "metadata": {},
   "outputs": [
    {
     "data": {
      "text/plain": [
       "[<matplotlib.lines.Line2D at 0x7f6d43d447b8>]"
      ]
     },
     "execution_count": 93,
     "metadata": {},
     "output_type": "execute_result"
    },
    {
     "data": {
      "image/png": "[encoded data removed]",
      "text/plain": [
       "<Figure size 432x288 with 1 Axes>"
      ]
     },
     "metadata": {
      "needs_background": "light"
     },
     "output_type": "display_data"
    }
   ],
   "source": [
    "plt.plot(np.arange(len(I)),S2, label = 'S2')\n",
    "plt.plot(np.arange(len(I)),I2, label = 'I2')\n",
    "plt.plot(np.arange(len(I)),R2, label = 'R2')\n",
    "plt.plot(np.arange(len(I)),D2, label = 'D2')"
   ]
  },
  {
   "cell_type": "code",
   "execution_count": 105,
   "metadata": {},
   "outputs": [
    {
     "name": "stdout",
     "output_type": "stream",
     "text": [
      "10547292.201348722\n"
     ]
    },
    {
     "data": {
      "text/plain": [
       "<matplotlib.legend.Legend at 0x7f6d4386d668>"
      ]
     },
     "execution_count": 105,
     "metadata": {},
     "output_type": "execute_result"
    },
    {
     "data": {
      "image/png": "[encoded data removed]",
      "text/plain": [
       "<Figure size 432x288 with 1 Axes>"
      ]
     },
     "metadata": {
      "needs_background": "light"
     },
     "output_type": "display_data"
    }
   ],
   "source": [
    "plt.plot(np.arange(len(I)),S, label = 'S')\n",
    "plt.plot(np.arange(len(I)),S2, label = 'S2')\n",
    "print(np.max(np.abs(S-S2)))\n",
    "plt.legend()"
   ]
  },
  {
   "cell_type": "code",
   "execution_count": 102,
   "metadata": {},
   "outputs": [
    {
     "name": "stdout",
     "output_type": "stream",
     "text": [
      "5172728.590474516\n"
     ]
    },
    {
     "data": {
      "text/plain": [
       "<matplotlib.legend.Legend at 0x7f6d4399ada0>"
      ]
     },
     "execution_count": 102,
     "metadata": {},
     "output_type": "execute_result"
    },
    {
     "data": {
      "image/png": "[encoded data removed]",
      "text/plain": [
       "<Figure size 432x288 with 1 Axes>"
      ]
     },
     "metadata": {
      "needs_background": "light"
     },
     "output_type": "display_data"
    }
   ],
   "source": [
    "plt.plot(np.arange(len(I)),I, label = 'I')\n",
    "plt.plot(np.arange(len(I)),I2, label = 'I2')\n",
    "print(np.max(np.abs(I-I2)))\n",
    "plt.legend()"
   ]
  },
  {
   "cell_type": "code",
   "execution_count": 101,
   "metadata": {},
   "outputs": [
    {
     "name": "stdout",
     "output_type": "stream",
     "text": [
      "7247696.25301896\n"
     ]
    },
    {
     "data": {
      "text/plain": [
       "<matplotlib.legend.Legend at 0x7f6d43a29e80>"
      ]
     },
     "execution_count": 101,
     "metadata": {},
     "output_type": "execute_result"
    },
    {
     "data": {
      "image/png": "[encoded data removed]",
      "text/plain": [
       "<Figure size 432x288 with 1 Axes>"
      ]
     },
     "metadata": {
      "needs_background": "light"
     },
     "output_type": "display_data"
    }
   ],
   "source": [
    "plt.plot(np.arange(len(I)),R, label = 'R')\n",
    "plt.plot(np.arange(len(I)),R2, label = 'R2')\n",
    "print(np.max(np.abs(R-R2)))\n",
    "plt.legend()"
   ]
  },
  {
   "cell_type": "code",
   "execution_count": 104,
   "metadata": {},
   "outputs": [
    {
     "name": "stdout",
     "output_type": "stream",
     "text": [
      "298967.4704370331\n"
     ]
    },
    {
     "data": {
      "text/plain": [
       "<matplotlib.legend.Legend at 0x7f6d438fa898>"
      ]
     },
     "execution_count": 104,
     "metadata": {},
     "output_type": "execute_result"
    },
    {
     "data": {
      "image/png": "[encoded data removed]",
      "text/plain": [
       "<Figure size 432x288 with 1 Axes>"
      ]
     },
     "metadata": {
      "needs_background": "light"
     },
     "output_type": "display_data"
    }
   ],
   "source": [
    "plt.plot(np.arange(len(I)),D, label = 'D')\n",
    "plt.plot(np.arange(len(I)),D2, label = 'D2')\n",
    "print(np.max(np.abs(D-D2)))\n",
    "plt.legend()"
   ]
  },
  {
   "cell_type": "code",
   "execution_count": null,
   "metadata": {},
   "outputs": [],
   "source": []
  }
 ],
 "metadata": {
  "kernelspec": {
   "display_name": "Python 3",
   "language": "python",
   "name": "python3"
  },
  "language_info": {
   "codemirror_mode": {
    "name": "ipython",
    "version": 3
   },
   "file_extension": ".py",
   "mimetype": "text/x-python",
   "name": "python",
   "nbconvert_exporter": "python",
   "pygments_lexer": "ipython3",
   "version": "3.6.9"
  }
 },
 "nbformat": 4,
 "nbformat_minor": 4
}
